{
  "metadata": {
    "kernelspec": {
      "name": "SQLite",
      "display_name": "SQLite",
      "language": "sql"
    },
    "language_info": {
      "codemirror_mode": "sql",
      "file_extension": "",
      "mimetype": "",
      "name": "sql",
      "version": "3.32.3"
    }
  },
  "nbformat_minor": 4,
  "nbformat": 4,
  "cells": [
    {
      "cell_type": "markdown",
      "source": "### Задание 1\nСоздайте таблицы с указанными столбцами и заполните их произвольными данными.\n\nBooks (id, author, title, publish_year)\nReaders (id, name)\nRecords (reader_id, book_id, taking_date, returning_date)",
      "metadata": {}
    },
    {
      "cell_type": "code",
      "source": "CREATE TABLE Books (\n    id INT PRIMARY KEY,\n    author NVARCHAR(100),\n    title NVARCHAR(100),\n    publish_year INT\n);\n\nCREATE TABLE Readers (\n    id INT PRIMARY KEY,\n    name NVARCHAR(100)\n);\n\nCREATE TABLE Records (\n    reader_id INT,\n    book_id INT,\n    taking_date DATE,\n    returning_date DATE,\n    FOREIGN KEY (reader_id) REFERENCES Readers(id),\n    FOREIGN KEY (book_id) REFERENCES Books(id)\n);",
      "metadata": {
        "trusted": true
      },
      "outputs": [],
      "execution_count": null
    },
    {
      "cell_type": "code",
      "source": "INSERT INTO Books (id, author, title, publish_year) VALUES\n(1, 'Лев Николаевич Толстой', 'Юность', 1857),\n(2, 'Федор Михайлович Достоевский', 'Игрок', 1866),\n(3, 'Михаил Юрьевич Лермонтов', 'Герой нашего времени', 1840);\n\nINSERT INTO Readers (id, name) VALUES\n(1, 'Лиза Меньщикова'),\n(2, 'Галина Чистякова'),\n(3, 'Петр Федоров');\n\nINSERT INTO Records (reader_id, book_id, taking_date, returning_date) VALUES\n(1, 1, '2020-01-01', '2022-01-15'),\n(2, 2, '2019-02-10', '2023-03-01'),\n(3, 3, '2021-03-05', NULL);",
      "metadata": {
        "trusted": true
      },
      "outputs": [],
      "execution_count": null
    },
    {
      "cell_type": "markdown",
      "source": "### Задание 2\nПостройте select запросы:\n\nЗапрос возвращает id и названия книг, находящихся в данный момент на руках у читателей.\nЗапрос возвращает имена читателей и названия книг, которые они когда либо брали.\nЗапрос возвращает количество книг для каждого автора.",
      "metadata": {}
    },
    {
      "cell_type": "code",
      "source": "SELECT b.id, b.title\nFROM Books b\nJOIN Records r ON b.id = r.book_id\nWHERE r.returning_date IS NULL;",
      "metadata": {
        "trusted": true
      },
      "outputs": [],
      "execution_count": null
    },
    {
      "cell_type": "code",
      "source": "SELECT rd.name, b.title\nFROM Readers rd\nJOIN Records r ON rd.id = r.reader_id\nJOIN Books b ON r.book_id = b.id;",
      "metadata": {
        "trusted": true
      },
      "outputs": [],
      "execution_count": null
    },
    {
      "cell_type": "code",
      "source": "SELECT author, COUNT(*) as book_count\nFROM Books\nGROUP BY author;",
      "metadata": {
        "trusted": true
      },
      "outputs": [],
      "execution_count": null
    },
    {
      "cell_type": "markdown",
      "source": "### Задание 3\nРеализуйте запрос FULL OUTER JOIN и проверьте его на данных из примеров.",
      "metadata": {}
    },
    {
      "cell_type": "code",
      "source": "SELECT COALESCE(t1.id, t2.id) as id, t1.name as name1, t2.name as name2\nFROM Table1 t1\nFULL OUTER JOIN Table2 t2 ON t1.id = t2.id;",
      "metadata": {
        "trusted": true
      },
      "outputs": [
        {
          "ename": "Error",
          "evalue": "Please load a database to perform operations",
          "traceback": [
            "Error: Please load a database to perform operations"
          ],
          "output_type": "error"
        }
      ],
      "execution_count": 2
    }
  ]
}