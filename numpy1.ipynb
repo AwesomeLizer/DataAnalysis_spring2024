{
 "cells": [
  {
   "cell_type": "code",
   "execution_count": 1,
   "id": "initial_id",
   "metadata": {
    "ExecuteTime": {
     "end_time": "2024-03-07T09:49:01.985425Z",
     "start_time": "2024-03-07T09:49:01.981784Z"
    },
    "collapsed": true
   },
   "outputs": [],
   "source": [
    "import numpy as np"
   ]
  },
  {
   "cell_type": "markdown",
   "id": "126679a740391917",
   "metadata": {
    "collapsed": false
   },
   "source": [
    "### 1. Создайте вектор с элементами от 12 до 42"
   ]
  },
  {
   "cell_type": "code",
   "execution_count": 2,
   "id": "a60051291334ae49",
   "metadata": {
    "ExecuteTime": {
     "end_time": "2024-03-07T09:49:02.056902Z",
     "start_time": "2024-03-07T09:49:02.051436Z"
    },
    "collapsed": false
   },
   "outputs": [
    {
     "data": {
      "text/plain": [
       "array([12, 13, 14, 15, 16, 17, 18, 19, 20, 21, 22, 23, 24, 25, 26, 27, 28,\n",
       "       29, 30, 31, 32, 33, 34, 35, 36, 37, 38, 39, 40, 41, 42])"
      ]
     },
     "execution_count": 2,
     "metadata": {},
     "output_type": "execute_result"
    }
   ],
   "source": [
    "vector1 = np.arange(12, 43)\n",
    "vector1"
   ]
  },
  {
   "cell_type": "markdown",
   "id": "78e356675036d018",
   "metadata": {
    "collapsed": false
   },
   "source": [
    "### 2. Создайте вектор из нулей длины 12, но его пятый элемент должен быть равен 1"
   ]
  },
  {
   "cell_type": "code",
   "execution_count": 3,
   "id": "82a89745ac729e0e",
   "metadata": {
    "ExecuteTime": {
     "end_time": "2024-03-07T09:49:02.063673Z",
     "start_time": "2024-03-07T09:49:02.058911Z"
    },
    "collapsed": false
   },
   "outputs": [
    {
     "data": {
      "text/plain": [
       "array([0., 0., 0., 0., 1., 0., 0., 0., 0., 0., 0., 0.])"
      ]
     },
     "execution_count": 3,
     "metadata": {},
     "output_type": "execute_result"
    }
   ],
   "source": [
    "vector2 = np.zeros(12)\n",
    "vector2[4] = 1\n",
    "vector2"
   ]
  },
  {
   "cell_type": "markdown",
   "id": "64dfae39c1ab1974",
   "metadata": {
    "collapsed": false
   },
   "source": [
    "### 3. Создайте матрицу (3, 3), заполненную от 0 до 8"
   ]
  },
  {
   "cell_type": "code",
   "execution_count": 4,
   "id": "685204ccccbcd92e",
   "metadata": {
    "ExecuteTime": {
     "end_time": "2024-03-07T09:49:02.072793Z",
     "start_time": "2024-03-07T09:49:02.067684Z"
    },
    "collapsed": false
   },
   "outputs": [
    {
     "data": {
      "text/plain": [
       "array([[0, 1, 2],\n",
       "       [3, 4, 5],\n",
       "       [6, 7, 8]])"
      ]
     },
     "execution_count": 4,
     "metadata": {},
     "output_type": "execute_result"
    }
   ],
   "source": [
    "matrix = np.arange(9).reshape(3, 3)\n",
    "matrix"
   ]
  },
  {
   "cell_type": "markdown",
   "id": "a84bb7ca8c11ace4",
   "metadata": {
    "collapsed": false
   },
   "source": [
    "### 4. Найдите все положительные числа в np.array([1,2,0,0,4,0])"
   ]
  },
  {
   "cell_type": "code",
   "execution_count": 5,
   "id": "3267452ddde3745a",
   "metadata": {
    "ExecuteTime": {
     "end_time": "2024-03-07T09:49:02.079705Z",
     "start_time": "2024-03-07T09:49:02.074802Z"
    },
    "collapsed": false
   },
   "outputs": [
    {
     "data": {
      "text/plain": [
       "array([1, 2, 4])"
      ]
     },
     "execution_count": 5,
     "metadata": {},
     "output_type": "execute_result"
    }
   ],
   "source": [
    "array = np.array([1, 2, 0, 0, 4, 0])\n",
    "array[array > 0]"
   ]
  },
  {
   "cell_type": "markdown",
   "id": "3f331fe64e4bf1b1",
   "metadata": {
    "collapsed": false
   },
   "source": [
    "### 5. Умножьте матрицу размерности (5, 3) на (3, 2)"
   ]
  },
  {
   "cell_type": "code",
   "execution_count": 6,
   "id": "b8db4a67fb4e0943",
   "metadata": {
    "ExecuteTime": {
     "end_time": "2024-03-07T09:49:02.091379Z",
     "start_time": "2024-03-07T09:49:02.082717Z"
    },
    "collapsed": false
   },
   "outputs": [
    {
     "data": {
      "text/plain": [
       "array([[1.55093325, 1.08556586],\n",
       "       [1.26407136, 0.68423499],\n",
       "       [1.37052221, 1.03373819],\n",
       "       [0.80564384, 0.53643167],\n",
       "       [0.13766095, 0.08513556]])"
      ]
     },
     "execution_count": 6,
     "metadata": {},
     "output_type": "execute_result"
    }
   ],
   "source": [
    "matrix1 = np.random.rand(5, 3)\n",
    "matrix2 = np.random.rand(3, 2)\n",
    "result = np.dot(matrix1, matrix2)\n",
    "result"
   ]
  },
  {
   "cell_type": "markdown",
   "id": "4f6a88a05eba6760",
   "metadata": {
    "collapsed": false
   },
   "source": [
    "### 6. Создайте матрицу (10, 10) так, чтобы на границе были 0, а внутри 1"
   ]
  },
  {
   "cell_type": "code",
   "execution_count": 7,
   "id": "33e9564a2bc363e4",
   "metadata": {
    "ExecuteTime": {
     "end_time": "2024-03-07T09:49:02.116504Z",
     "start_time": "2024-03-07T09:49:02.110391Z"
    },
    "collapsed": false
   },
   "outputs": [
    {
     "data": {
      "text/plain": [
       "array([[0., 0., 0., 0., 0., 0., 0., 0., 0., 0.],\n",
       "       [0., 1., 1., 1., 1., 1., 1., 1., 1., 0.],\n",
       "       [0., 1., 1., 1., 1., 1., 1., 1., 1., 0.],\n",
       "       [0., 1., 1., 1., 1., 1., 1., 1., 1., 0.],\n",
       "       [0., 1., 1., 1., 1., 1., 1., 1., 1., 0.],\n",
       "       [0., 1., 1., 1., 1., 1., 1., 1., 1., 0.],\n",
       "       [0., 1., 1., 1., 1., 1., 1., 1., 1., 0.],\n",
       "       [0., 1., 1., 1., 1., 1., 1., 1., 1., 0.],\n",
       "       [0., 1., 1., 1., 1., 1., 1., 1., 1., 0.],\n",
       "       [0., 0., 0., 0., 0., 0., 0., 0., 0., 0.]])"
      ]
     },
     "execution_count": 7,
     "metadata": {},
     "output_type": "execute_result"
    }
   ],
   "source": [
    "matrix_boundary = np.zeros((10, 10))\n",
    "matrix_boundary[1:-1, 1:-1] = 1\n",
    "matrix_boundary"
   ]
  },
  {
   "cell_type": "markdown",
   "id": "5176c5ef50533e50",
   "metadata": {
    "collapsed": false
   },
   "source": [
    "### 7. Создайте рандомный вектор и отсортируйте его"
   ]
  },
  {
   "cell_type": "code",
   "execution_count": 8,
   "id": "6162d443c5dabbaf",
   "metadata": {
    "ExecuteTime": {
     "end_time": "2024-03-07T09:49:02.128788Z",
     "start_time": "2024-03-07T09:49:02.124514Z"
    },
    "collapsed": false
   },
   "outputs": [
    {
     "data": {
      "text/plain": [
       "array([0.1294494 , 0.13332755, 0.1787221 , 0.42448732, 0.51931482,\n",
       "       0.58136596, 0.59443267, 0.69283501, 0.72696109, 0.96318298])"
      ]
     },
     "execution_count": 8,
     "metadata": {},
     "output_type": "execute_result"
    }
   ],
   "source": [
    "random_vector = np.random.rand(10)\n",
    "np.sort(random_vector)"
   ]
  },
  {
   "cell_type": "markdown",
   "id": "3ba350c84f5b7aaf",
   "metadata": {
    "collapsed": false
   },
   "source": [
    "### 8. Каков эквивалент функции enumerate для numpy массивов?"
   ]
  },
  {
   "cell_type": "code",
   "execution_count": 9,
   "id": "708d15f10a169500",
   "metadata": {
    "ExecuteTime": {
     "end_time": "2024-03-07T09:49:02.134361Z",
     "start_time": "2024-03-07T09:49:02.129796Z"
    },
    "collapsed": false
   },
   "outputs": [
    {
     "name": "stdout",
     "output_type": "stream",
     "text": [
      "(0,) 10\n",
      "(1,) 20\n",
      "(2,) 30\n",
      "(3,) 32\n",
      "(4,) 2\n",
      "(5,) 1\n"
     ]
    }
   ],
   "source": [
    "array = np.array([10, 20, 30, 32, 2, 1])\n",
    "for index, value in np.ndenumerate(array):\n",
    "    print(index, value)"
   ]
  },
  {
   "cell_type": "markdown",
   "id": "1ca087f0fea2372e",
   "metadata": {
    "collapsed": false
   },
   "source": [
    "### 9. Создайте рандомную матрицу и выполните нормализацию столбцов"
   ]
  },
  {
   "cell_type": "code",
   "execution_count": 10,
   "id": "1e8298cc83a005f9",
   "metadata": {
    "ExecuteTime": {
     "end_time": "2024-03-07T09:49:02.141831Z",
     "start_time": "2024-03-07T09:49:02.135369Z"
    },
    "collapsed": false
   },
   "outputs": [
    {
     "data": {
      "text/plain": [
       "array([[ 1.25678471,  0.52859088, -1.02839725],\n",
       "       [ 0.93697397,  0.0381923 ,  1.19418559],\n",
       "       [ 0.0595554 ,  1.47034459, -1.34597167],\n",
       "       [-1.1391659 , -0.52750634,  0.6543714 ],\n",
       "       [-1.11414819, -1.50962143,  0.52581193]])"
      ]
     },
     "execution_count": 10,
     "metadata": {},
     "output_type": "execute_result"
    }
   ],
   "source": [
    "random_matrix = np.random.rand(5, 3)\n",
    "normalized_matrix = (random_matrix - np.mean(random_matrix, axis=0))\n",
    "normalized_matrix = normalized_matrix / np.std(normalized_matrix, axis=0)\n",
    "normalized_matrix"
   ]
  },
  {
   "cell_type": "markdown",
   "id": "83dcfa33ab5576c5",
   "metadata": {
    "collapsed": false
   },
   "source": [
    "### 10. Для заданного числа найдите ближайший к нему элемент в векторе"
   ]
  },
  {
   "cell_type": "code",
   "execution_count": 11,
   "id": "3cac81d7f3fc36b8",
   "metadata": {
    "ExecuteTime": {
     "end_time": "2024-03-07T09:49:02.189937Z",
     "start_time": "2024-03-07T09:49:02.183840Z"
    },
    "collapsed": false
   },
   "outputs": [
    {
     "name": "stdout",
     "output_type": "stream",
     "text": [
      "[0.44356718 0.23114639 0.40790918 0.2849821  0.80838434 0.87354636\n",
      " 0.09213713 0.98447508 0.84700177 0.35794858]\n"
     ]
    },
    {
     "data": {
      "text/plain": [
       "0.4435671799984233"
      ]
     },
     "execution_count": 11,
     "metadata": {},
     "output_type": "execute_result"
    }
   ],
   "source": [
    "number = 0.5\n",
    "vector = np.random.rand(10)\n",
    "print(vector)\n",
    "closest_value = vector[np.abs(vector - number).argmin()]\n",
    "closest_value"
   ]
  },
  {
   "cell_type": "markdown",
   "id": "ad2ea1192cd03c24",
   "metadata": {
    "collapsed": false
   },
   "source": [
    "### 11. Найдите N наибольших значений в векторе"
   ]
  },
  {
   "cell_type": "code",
   "execution_count": 12,
   "id": "7481af76dff9b875",
   "metadata": {
    "ExecuteTime": {
     "end_time": "2024-03-07T09:49:02.198725Z",
     "start_time": "2024-03-07T09:49:02.191947Z"
    },
    "collapsed": false
   },
   "outputs": [
    {
     "name": "stdout",
     "output_type": "stream",
     "text": [
      "[0.1817758  0.37695889 0.16833064 0.98977828 0.97009399 0.22211787\n",
      " 0.75709755 0.88847429 0.6066234  0.06861746]\n"
     ]
    },
    {
     "data": {
      "text/plain": [
       "array([0.88847429, 0.97009399, 0.98977828])"
      ]
     },
     "execution_count": 12,
     "metadata": {},
     "output_type": "execute_result"
    }
   ],
   "source": [
    "N = 3\n",
    "vector = np.random.rand(10)\n",
    "print(vector)\n",
    "largest_values = vector[np.argsort(vector)[-N:]]\n",
    "largest_values"
   ]
  }
 ],
 "metadata": {
  "kernelspec": {
   "display_name": "Python 3",
   "language": "python",
   "name": "python3"
  },
  "language_info": {
   "codemirror_mode": {
    "name": "ipython",
    "version": 3
   },
   "file_extension": ".py",
   "mimetype": "text/x-python",
   "name": "python",
   "nbconvert_exporter": "python",
   "pygments_lexer": "ipython3",
   "version": "3.8.19"
  }
 },
 "nbformat": 4,
 "nbformat_minor": 5
}
