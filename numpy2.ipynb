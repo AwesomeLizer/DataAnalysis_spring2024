{
 "cells": [
  {
   "cell_type": "code",
   "execution_count": null,
   "id": "fb7897c61a3a96ce",
   "metadata": {
    "collapsed": false,
    "is_executing": true
   },
   "outputs": [],
   "source": [
    "import numpy as np\n",
    "import imageio\n",
    "from PIL import Image"
   ]
  },
  {
   "cell_type": "code",
   "execution_count": null,
   "id": "f7eaa29c",
   "metadata": {},
   "outputs": [],
   "source": [
    "def grayscale_image(image, weights):\n",
    "    gray_image = np.dot(image, weights)\n",
    "    return gray_image"
   ]
  },
  {
   "cell_type": "markdown",
   "id": "75305216",
   "metadata": {},
   "source": [
    "### Загрузка цветного изображения"
   ]
  },
  {
   "cell_type": "code",
   "execution_count": null,
   "id": "72be3edc",
   "metadata": {},
   "outputs": [],
   "source": [
    "image = imageio.v2.imread('south_park.jpg')\n",
    "image.show()"
   ]
  },
  {
   "cell_type": "markdown",
   "id": "b3acc72e",
   "metadata": {},
   "source": [
    "### Коэффициенты для преобразования в оттенки серого"
   ]
  },
  {
   "cell_type": "code",
   "execution_count": null,
   "id": "cc685886",
   "metadata": {},
   "outputs": [],
   "source": [
    "weights = np.array([0.299, 0.587, 0.114])"
   ]
  },
  {
   "cell_type": "markdown",
   "id": "a2d11a91",
   "metadata": {},
   "source": [
    "### Преобразование цветного изображения в оттенки серого"
   ]
  },
  {
   "cell_type": "code",
   "execution_count": null,
   "id": "7bd0603d",
   "metadata": {},
   "outputs": [],
   "source": [
    "gray_image = grayscale_image(image, weights)"
   ]
  },
  {
   "cell_type": "code",
   "execution_count": null,
   "id": "ec36f8a5",
   "metadata": {},
   "outputs": [],
   "source": [
    "img = Image.fromarray(gray_image, 'I')\n",
    "img.save('grey.png')\n",
    "img.show()"
   ]
  }
 ],
 "metadata": {
  "kernelspec": {
   "display_name": "Python 3",
   "language": "python",
   "name": "python3"
  },
  "language_info": {
   "codemirror_mode": {
    "name": "ipython",
    "version": 2
   },
   "file_extension": ".py",
   "mimetype": "text/x-python",
   "name": "python",
   "nbconvert_exporter": "python",
   "pygments_lexer": "ipython2",
   "version": "2.7.6"
  }
 },
 "nbformat": 4,
 "nbformat_minor": 5
}
